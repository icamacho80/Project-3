{
 "cells": [
  {
   "cell_type": "code",
   "execution_count": 2,
   "id": "2f7aec13-9611-47c0-af4d-07b07c83b47d",
   "metadata": {},
   "outputs": [
    {
     "name": "stdout",
     "output_type": "stream",
     "text": [
      "Combined notebook saved to: C:/Users/ilyay/OneDrive/Desktop/Project-3/combined_notebook.ipynb\n"
     ]
    }
   ],
   "source": [
    "import nbformat\n",
    "\n",
    "# Paths to the notebooks\n",
    "notebook1 = r\"C:\\Users\\ilyay\\OneDrive\\Desktop\\Project-3\\Salesanalysisproject3.ipynb\"\n",
    "notebook2 = r\"C:\\Users\\ilyay\\OneDrive\\Desktop\\Project-3\\proj3 (2).ipynb\"\n",
    "\n",
    "# Output combined notebook\n",
    "output_notebook = r\"C:/Users/ilyay/OneDrive/Desktop/Project-3/combined_notebook.ipynb\"\n",
    "\n",
    "# Load the two notebooks\n",
    "with open(notebook1, \"r\", encoding=\"utf-8\") as f1, open(notebook2, \"r\", encoding=\"utf-8\") as f2:\n",
    "    nb1 = nbformat.read(f1, as_version=4)\n",
    "    nb2 = nbformat.read(f2, as_version=4)\n",
    "\n",
    "# Combine the cells\n",
    "combined_notebook = nbformat.v4.new_notebook()\n",
    "combined_notebook.cells = nb1.cells + nb2.cells\n",
    "\n",
    "# Save the combined notebook\n",
    "with open(output_notebook, \"w\", encoding=\"utf-8\") as f:\n",
    "    nbformat.write(combined_notebook, f)\n",
    "\n",
    "print(f\"Combined notebook saved to: {output_notebook}\")\n"
   ]
  },
  {
   "cell_type": "code",
   "execution_count": null,
   "id": "5048fcdc-7a48-4ec5-89d8-94473fa9de3e",
   "metadata": {},
   "outputs": [],
   "source": []
  }
 ],
 "metadata": {
  "kernelspec": {
   "display_name": "Python 3 (ipykernel)",
   "language": "python",
   "name": "python3"
  },
  "language_info": {
   "codemirror_mode": {
    "name": "ipython",
    "version": 3
   },
   "file_extension": ".py",
   "mimetype": "text/x-python",
   "name": "python",
   "nbconvert_exporter": "python",
   "pygments_lexer": "ipython3",
   "version": "3.12.4"
  }
 },
 "nbformat": 4,
 "nbformat_minor": 5
}
